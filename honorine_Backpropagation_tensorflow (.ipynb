{
  "cells": [
    {
      "cell_type": "markdown",
      "metadata": {
        "id": "6S0YG-OK5yiW"
      },
      "source": [
        "# Multilayer Neural Networks in TensorFlow\n",
        "\n",
        "\n",
        "### Goals:\n",
        "- Introduce the basics of `TensorFlow`\n",
        "- Auto-differentiation\n",
        "- Implement the digit classifier using the low level `TensorFlow` API without Keras abstraction."
      ]
    },
    {
      "cell_type": "markdown",
      "metadata": {
        "id": "L-QBeSU25yiY"
      },
      "source": [
        "# Introduction to TensorFlow\n",
        "\n",
        "TensorFlow is a dynamic graph computation engine, that allows automatic differentiation of each node. Tensorflow is the default computational backend of the Keras library. I can also be used directly from Python to build deep learning models.\n",
        "\n",
        "- https://www.tensorflow.org\n",
        "- https://www.tensorflow.org/tutorials/quickstart/advanced\n",
        "\n",
        "TensorFlow builds where nodes may be:\n",
        "- **constant:** constants tensors, such as training data;\n",
        "- **Variables:** any tensor that is meant to be updated when training, such as parameters of the models.\n",
        "\n",
        "**Note** that we are using for this course the new version Tensorflow 2.0. This version cleaned the old cluttered api and uses by default dynamic graph of operations to make it natural to design a model interactively in Jupyter. Previously you defined the graph statically once, and then needed to evaluate it by feeding it some data. Now it is dynamically defined when executing imperative Python instructions which means that you can `print` any tensor at any moment or even use `pdb.set_trace()` to inspect intermediary values."
      ]
    },
    {
      "cell_type": "code",
      "execution_count": 1,
      "metadata": {
        "colab": {
          "base_uri": "https://localhost:8080/"
        },
        "id": "CMDVxxTA5yiZ",
        "outputId": "77d2960a-c0db-450f-b80f-feb9b29d3627"
      },
      "outputs": [
        {
          "output_type": "execute_result",
          "data": {
            "text/plain": [
              "<tf.Tensor: shape=(), dtype=int32, numpy=3>"
            ]
          },
          "metadata": {},
          "execution_count": 1
        }
      ],
      "source": [
        "import tensorflow as tf\n",
        "\n",
        "\n",
        "a = tf.constant(3)\n",
        "a"
      ]
    },
    {
      "cell_type": "code",
      "execution_count": 2,
      "metadata": {
        "colab": {
          "base_uri": "https://localhost:8080/"
        },
        "id": "a5W-lwzE5yia",
        "outputId": "2cc74afb-e56d-456e-825e-2d7f778cc2ab"
      },
      "outputs": [
        {
          "output_type": "execute_result",
          "data": {
            "text/plain": [
              "<tf.Tensor: shape=(), dtype=int32, numpy=5>"
            ]
          },
          "metadata": {},
          "execution_count": 2
        }
      ],
      "source": [
        "c = tf.Variable(0)\n",
        "b = tf.constant(2)\n",
        "\n",
        "c = a + b\n",
        "\n",
        "c"
      ]
    },
    {
      "cell_type": "code",
      "execution_count": 3,
      "metadata": {
        "colab": {
          "base_uri": "https://localhost:8080/"
        },
        "id": "g4ALeAza5yia",
        "outputId": "5d047ffb-23f8-4a44-cbb1-252a90ac9849"
      },
      "outputs": [
        {
          "output_type": "execute_result",
          "data": {
            "text/plain": [
              "<tf.Tensor: shape=(2, 2), dtype=float32, numpy=\n",
              "array([[0., 1.],\n",
              "       [2., 3.]], dtype=float32)>"
            ]
          },
          "metadata": {},
          "execution_count": 3
        }
      ],
      "source": [
        "A = tf.constant([[0, 1], [2, 3]], dtype=tf.float32)\n",
        "A"
      ]
    },
    {
      "cell_type": "markdown",
      "metadata": {
        "id": "ruhhXpR55yia"
      },
      "source": [
        "A tf.Tensor can be converted to numpy the following way:"
      ]
    },
    {
      "cell_type": "code",
      "execution_count": 4,
      "metadata": {
        "colab": {
          "base_uri": "https://localhost:8080/"
        },
        "id": "erEVVYah5yia",
        "outputId": "d2434819-2e97-46da-dd65-b8ef9c8c5f9e"
      },
      "outputs": [
        {
          "output_type": "execute_result",
          "data": {
            "text/plain": [
              "array([[0., 1.],\n",
              "       [2., 3.]], dtype=float32)"
            ]
          },
          "metadata": {},
          "execution_count": 4
        }
      ],
      "source": [
        "A.numpy()"
      ]
    },
    {
      "cell_type": "code",
      "execution_count": 5,
      "metadata": {
        "colab": {
          "base_uri": "https://localhost:8080/"
        },
        "id": "gYdMVY3Y5yia",
        "outputId": "cb2c3d9a-240c-4663-e8ca-a009694c6b9d"
      },
      "outputs": [
        {
          "output_type": "execute_result",
          "data": {
            "text/plain": [
              "<tf.Variable 'Variable:0' shape=(2,) dtype=float32, numpy=array([1., 2.], dtype=float32)>"
            ]
          },
          "metadata": {},
          "execution_count": 5
        }
      ],
      "source": [
        "b = tf.Variable([1, 2], dtype=tf.float32)\n",
        "b"
      ]
    },
    {
      "cell_type": "code",
      "execution_count": 6,
      "metadata": {
        "colab": {
          "base_uri": "https://localhost:8080/"
        },
        "id": "XdXUE3m95yia",
        "outputId": "375dbea5-f882-4d8a-f204-4fa7d55071cd"
      },
      "outputs": [
        {
          "output_type": "execute_result",
          "data": {
            "text/plain": [
              "<tf.Tensor: shape=(2, 1), dtype=float32, numpy=\n",
              "array([[1.],\n",
              "       [2.]], dtype=float32)>"
            ]
          },
          "metadata": {},
          "execution_count": 6
        }
      ],
      "source": [
        "tf.reshape(b, (-1, 1))"
      ]
    },
    {
      "cell_type": "code",
      "execution_count": 7,
      "metadata": {
        "colab": {
          "base_uri": "https://localhost:8080/"
        },
        "id": "HHypjTn95yib",
        "outputId": "c2833608-dfc8-48ad-88c2-3e8a23a51103"
      },
      "outputs": [
        {
          "output_type": "execute_result",
          "data": {
            "text/plain": [
              "<tf.Tensor: shape=(2, 1), dtype=float32, numpy=\n",
              "array([[2.],\n",
              "       [8.]], dtype=float32)>"
            ]
          },
          "metadata": {},
          "execution_count": 7
        }
      ],
      "source": [
        "tf.matmul(A, tf.reshape(b, (-1, 1)))"
      ]
    },
    {
      "cell_type": "markdown",
      "metadata": {
        "id": "fcYwIsrf5yib"
      },
      "source": [
        "### Exercise\n",
        "\n",
        "Write a function that computes the squared Euclidean norm of an 1D tensorf input x:\n",
        "\n",
        "- Use element wise arithmetic operations (`+`, `-`, `*`,  `/`, `**`)\n",
        "- Use `tf.reduce_sum` to compute the sum of the element of a Tensor."
      ]
    },
    {
      "cell_type": "code",
      "execution_count": 8,
      "metadata": {
        "colab": {
          "base_uri": "https://localhost:8080/"
        },
        "id": "yl6meBXZ5yib",
        "outputId": "39d309e1-1248-4605-eb5c-0afa66c2e5e0"
      },
      "outputs": [
        {
          "output_type": "execute_result",
          "data": {
            "text/plain": [
              "<tf.Variable 'Variable:0' shape=(2,) dtype=float32, numpy=array([ 1., -4.], dtype=float32)>"
            ]
          },
          "metadata": {},
          "execution_count": 8
        }
      ],
      "source": [
        "x = tf.Variable([1, -4], dtype=tf.float32)\n",
        "x"
      ]
    },
    {
      "cell_type": "code",
      "execution_count": 9,
      "metadata": {
        "id": "EZKIZvFh5yib"
      },
      "outputs": [],
      "source": [
        "def squared_norm(x):\n",
        "    # TODO: sum of the squared elements of x\n",
        "    output = sum(x**2)\n",
        "    return output"
      ]
    },
    {
      "cell_type": "code",
      "execution_count": 10,
      "metadata": {
        "colab": {
          "base_uri": "https://localhost:8080/"
        },
        "id": "F2W3N7eQ5yib",
        "outputId": "6be1c95b-f99c-4e73-b18d-0705a84bfa7c"
      },
      "outputs": [
        {
          "output_type": "execute_result",
          "data": {
            "text/plain": [
              "<tf.Tensor: shape=(), dtype=float32, numpy=17.0>"
            ]
          },
          "metadata": {},
          "execution_count": 10
        }
      ],
      "source": [
        "squared_norm(x)"
      ]
    },
    {
      "cell_type": "code",
      "execution_count": 11,
      "metadata": {
        "colab": {
          "base_uri": "https://localhost:8080/"
        },
        "id": "JjrduASw5yic",
        "outputId": "7074bd24-585e-4621-d64a-4a77332e796d"
      },
      "outputs": [
        {
          "output_type": "execute_result",
          "data": {
            "text/plain": [
              "17.0"
            ]
          },
          "metadata": {},
          "execution_count": 11
        }
      ],
      "source": [
        "squared_norm(x).numpy()"
      ]
    },
    {
      "cell_type": "markdown",
      "metadata": {
        "id": "bdHrAAT45yic"
      },
      "source": [
        "### Autodiff and Gradient Descent"
      ]
    },
    {
      "cell_type": "code",
      "execution_count": 12,
      "metadata": {
        "colab": {
          "base_uri": "https://localhost:8080/"
        },
        "id": "mhkBDqZ95yic",
        "outputId": "ab49269a-3b3a-459e-ecfe-5db648d2811c"
      },
      "outputs": [
        {
          "output_type": "execute_result",
          "data": {
            "text/plain": [
              "[<tf.Tensor: shape=(2,), dtype=float32, numpy=array([ 2., -8.], dtype=float32)>]"
            ]
          },
          "metadata": {},
          "execution_count": 12
        }
      ],
      "source": [
        "x = tf.Variable([1, -4], dtype=tf.float32)\n",
        "\n",
        "\n",
        "with tf.GradientTape() as tape:\n",
        "    result = squared_norm(x)\n",
        "\n",
        "\n",
        "variables = [x]\n",
        "gradients = tape.gradient(result, variables)\n",
        "gradients"
      ]
    },
    {
      "cell_type": "code",
      "execution_count": 13,
      "metadata": {
        "id": "QNfXt_nl5yic"
      },
      "outputs": [],
      "source": [
        "grad_x = gradients[0]"
      ]
    },
    {
      "cell_type": "code",
      "source": [
        "grad_x"
      ],
      "metadata": {
        "colab": {
          "base_uri": "https://localhost:8080/"
        },
        "id": "O6dXBL0D9wb1",
        "outputId": "e2cf6c24-a1b3-432d-80c0-d9d515de4253"
      },
      "execution_count": 14,
      "outputs": [
        {
          "output_type": "execute_result",
          "data": {
            "text/plain": [
              "<tf.Tensor: shape=(2,), dtype=float32, numpy=array([ 2., -8.], dtype=float32)>"
            ]
          },
          "metadata": {},
          "execution_count": 14
        }
      ]
    },
    {
      "cell_type": "code",
      "execution_count": 15,
      "metadata": {
        "colab": {
          "base_uri": "https://localhost:8080/"
        },
        "id": "JZ46ovUj5yic",
        "outputId": "53ab9f9f-6f04-4ee8-a3ad-c20cb111c43a"
      },
      "outputs": [
        {
          "output_type": "execute_result",
          "data": {
            "text/plain": [
              "<tf.Variable 'Variable:0' shape=(2,) dtype=float32, numpy=array([ 1., -4.], dtype=float32)>"
            ]
          },
          "metadata": {},
          "execution_count": 15
        }
      ],
      "source": [
        "x"
      ]
    },
    {
      "cell_type": "markdown",
      "metadata": {
        "id": "ApZSMdGI5yic"
      },
      "source": [
        "We can apply a gradient step to modify x in place by taking one step of gradient descent:"
      ]
    },
    {
      "cell_type": "code",
      "execution_count": 16,
      "metadata": {
        "colab": {
          "base_uri": "https://localhost:8080/"
        },
        "id": "g28bgeVz5yic",
        "outputId": "fc7d2ef4-8c07-4140-8bf6-fb43263f1c12"
      },
      "outputs": [
        {
          "output_type": "execute_result",
          "data": {
            "text/plain": [
              "array([ 0.8, -3.2], dtype=float32)"
            ]
          },
          "metadata": {},
          "execution_count": 16
        }
      ],
      "source": [
        "x.assign_sub(0.1 * grad_x)\n",
        "x.numpy()"
      ]
    },
    {
      "cell_type": "markdown",
      "metadata": {
        "id": "VrlSASFx5yic"
      },
      "source": [
        "Execute the following gradient descent step many times consecutively to watch the decrease of the objective function and the values of `x` converging to the minimum of the `squared_norm` function.\n",
        "\n",
        "Hit `[ctrl]-[enter]` several times to execute the same Jupyter notebook cell over and over again."
      ]
    },
    {
      "cell_type": "code",
      "execution_count": 17,
      "metadata": {
        "colab": {
          "base_uri": "https://localhost:8080/"
        },
        "id": "6QVe0nbA5yic",
        "outputId": "23f9fd26-9c10-43c2-ab82-a326cb5696c0"
      },
      "outputs": [
        {
          "output_type": "stream",
          "name": "stdout",
          "text": [
            "objective = 1.088000e+01\n",
            "x = [ 0.64 -2.56]\n"
          ]
        }
      ],
      "source": [
        "with tf.GradientTape() as tape:\n",
        "    objective = squared_norm(x)\n",
        "\n",
        "x.assign_sub(0.1 * tape.gradient(objective, [x])[0])\n",
        "\n",
        "print(f\"objective = {objective.numpy():e}\")\n",
        "print(f\"x = {x.numpy()}\")"
      ]
    },
    {
      "cell_type": "markdown",
      "metadata": {
        "id": "oOfRc3JI5yid"
      },
      "source": [
        "### Device-aware Memory Allocation"
      ]
    },
    {
      "cell_type": "markdown",
      "metadata": {
        "id": "HkxY7Xus5yid"
      },
      "source": [
        "To explicitely place tensors on a device, use context managers:"
      ]
    },
    {
      "cell_type": "code",
      "execution_count": 18,
      "metadata": {
        "colab": {
          "base_uri": "https://localhost:8080/",
          "height": 35
        },
        "id": "IHRX2dnU5yid",
        "outputId": "150f9731-1f05-4b42-9494-0186bf6c8c3a"
      },
      "outputs": [
        {
          "output_type": "execute_result",
          "data": {
            "text/plain": [
              "'/job:localhost/replica:0/task:0/device:CPU:0'"
            ],
            "application/vnd.google.colaboratory.intrinsic+json": {
              "type": "string"
            }
          },
          "metadata": {},
          "execution_count": 18
        }
      ],
      "source": [
        "with tf.device(\"CPU:0\"):\n",
        "    x_cpu = tf.constant(3)\n",
        "\n",
        "# with tf.device(\"GPU:0\"):\n",
        "#     x_gpu = tf.constant(3)\n",
        "x_cpu.device"
      ]
    },
    {
      "cell_type": "markdown",
      "metadata": {
        "id": "jRDW0CPN5yid"
      },
      "source": [
        "## Building a Digits Classifier in TensorFlow\n",
        "\n",
        "### Dataset:\n",
        "- Similar as first Lab - Digits: 10 class handwritten digits\n",
        "- http://scikit-learn.org/stable/modules/generated/sklearn.datasets.load_digits.html#sklearn.datasets.load_digits"
      ]
    },
    {
      "cell_type": "code",
      "execution_count": 19,
      "metadata": {
        "colab": {
          "base_uri": "https://localhost:8080/",
          "height": 314
        },
        "id": "mTvksVrO5yid",
        "outputId": "e0d9cde8-61f2-4ada-835f-d1c9c48429f9"
      },
      "outputs": [
        {
          "output_type": "display_data",
          "data": {
            "text/plain": [
              "<Figure size 300x300 with 1 Axes>"
            ],
            "image/png": "[encoded data removed]"
          },
          "metadata": {}
        }
      ],
      "source": [
        "%matplotlib inline\n",
        "import matplotlib.pyplot as plt\n",
        "from sklearn.datasets import load_digits\n",
        "\n",
        "digits = load_digits()\n",
        "\n",
        "sample_index = 45\n",
        "plt.figure(figsize=(3, 3))\n",
        "plt.imshow(digits.images[sample_index], cmap=plt.cm.gray_r,\n",
        "           interpolation='nearest')\n",
        "plt.title(\"image label: %d\" % digits.target[sample_index]);"
      ]
    },
    {
      "cell_type": "markdown",
      "metadata": {
        "id": "SFlXMkF85yid"
      },
      "source": [
        "### Preprocessing\n",
        "\n",
        "- Normalization\n",
        "- Train / test split"
      ]
    },
    {
      "cell_type": "code",
      "execution_count": 20,
      "metadata": {
        "colab": {
          "base_uri": "https://localhost:8080/"
        },
        "id": "6d0qxZRk5yid",
        "outputId": "0f140b85-4523-413d-df66-a56ee5935f1c"
      },
      "outputs": [
        {
          "output_type": "execute_result",
          "data": {
            "text/plain": [
              "(((1527, 64), (1527,)), ((270, 64), (270,)))"
            ]
          },
          "metadata": {},
          "execution_count": 20
        }
      ],
      "source": [
        "import numpy as np\n",
        "from sklearn import preprocessing\n",
        "from sklearn.model_selection import train_test_split\n",
        "\n",
        "data = np.asarray(digits.data, dtype='float32')\n",
        "target = np.asarray(digits.target, dtype='int32')\n",
        "\n",
        "X_train, X_test, y_train, y_test = train_test_split(\n",
        "    data, target, test_size=0.15, random_state=37)\n",
        "\n",
        "# mean = 0 ; standard deviation = 1.0\n",
        "scaler = preprocessing.StandardScaler()\n",
        "X_train = scaler.fit_transform(X_train)\n",
        "X_test = scaler.transform(X_test)\n",
        "\n",
        "# print(scaler.mean_)\n",
        "# print(scaler.scale_)\n",
        "(X_train.shape, y_train.shape), (X_test.shape, y_test.shape)"
      ]
    },
    {
      "cell_type": "markdown",
      "metadata": {
        "id": "cKWf9ouw5yid"
      },
      "source": [
        "TensorFlow provides dataset abstraction which makes it is to iterate over the data batch by batch:"
      ]
    },
    {
      "cell_type": "code",
      "execution_count": 21,
      "metadata": {
        "id": "OFJzUK7M5yid"
      },
      "outputs": [],
      "source": [
        "def gen_dataset(x, y, batch_size=128):\n",
        "    dataset = tf.data.Dataset.from_tensor_slices((x, y))\n",
        "    dataset = dataset.shuffle(buffer_size=10000, seed=42)\n",
        "    dataset = dataset.batch(batch_size=batch_size)\n",
        "    return dataset"
      ]
    },
    {
      "cell_type": "code",
      "execution_count": 22,
      "metadata": {
        "colab": {
          "base_uri": "https://localhost:8080/"
        },
        "id": "o3uakGLA5yid",
        "outputId": "37c403c3-0d26-4d27-f6bd-1c8e4f6f338e"
      },
      "outputs": [
        {
          "output_type": "execute_result",
          "data": {
            "text/plain": [
              "<_BatchDataset element_spec=(TensorSpec(shape=(None, 64), dtype=tf.float32, name=None), TensorSpec(shape=(None,), dtype=tf.int32, name=None))>"
            ]
          },
          "metadata": {},
          "execution_count": 22
        }
      ],
      "source": [
        "dataset = gen_dataset(X_train, y_train)\n",
        "dataset"
      ]
    },
    {
      "cell_type": "code",
      "execution_count": 23,
      "metadata": {
        "colab": {
          "base_uri": "https://localhost:8080/"
        },
        "id": "f56G1jpo5yid",
        "outputId": "283fe736-c1c1-44e6-f15b-b5b0701b0e80"
      },
      "outputs": [
        {
          "output_type": "execute_result",
          "data": {
            "text/plain": [
              "TensorShape([128, 64])"
            ]
          },
          "metadata": {},
          "execution_count": 23
        }
      ],
      "source": [
        "batch_x, batch_y = next(iter(dataset))\n",
        "batch_x.shape"
      ]
    },
    {
      "cell_type": "code",
      "execution_count": 24,
      "metadata": {
        "colab": {
          "base_uri": "https://localhost:8080/"
        },
        "id": "6IPwChOa5yid",
        "outputId": "90687995-bcd9-4958-bf2c-cd3c6de7fccf"
      },
      "outputs": [
        {
          "output_type": "execute_result",
          "data": {
            "text/plain": [
              "TensorShape([128])"
            ]
          },
          "metadata": {},
          "execution_count": 24
        }
      ],
      "source": [
        "batch_y.shape"
      ]
    },
    {
      "cell_type": "markdown",
      "metadata": {
        "id": "Vn-2JhXZ5yid"
      },
      "source": [
        "### Build a model using TensorFlow\n",
        "\n",
        "- Using TensorFlow, build a similar model (one hidden layer) as you previously did;\n",
        "- The input will be a batch coming from X_train, and the output will be a batch of ints;\n",
        "- The output do not need be normalized as probabilities, the softmax will be moved to the loss function."
      ]
    },
    {
      "cell_type": "code",
      "execution_count": 25,
      "metadata": {
        "id": "hinQvK4Z5yid"
      },
      "outputs": [],
      "source": [
        "# helper functions to use to test your randomly initialized model:\n",
        "\n",
        "def init_weights(shape):\n",
        "    return tf.Variable(tf.random.normal(shape, stddev=0.01))\n",
        "\n",
        "\n",
        "def accuracy(y_pred, y):\n",
        "    return np.mean(np.argmax(y_pred, axis=1) == y)\n",
        "\n",
        "\n",
        "def test_model(model, x, y):\n",
        "    dataset = gen_dataset(x, y)\n",
        "    preds, targets = [], []\n",
        "\n",
        "    for batch_x, batch_y in dataset:\n",
        "        preds.append(model(batch_x).numpy())\n",
        "        targets.append(batch_y.numpy())\n",
        "\n",
        "    preds, targets = np.concatenate(preds), np.concatenate(targets)\n",
        "    return accuracy(preds, targets)"
      ]
    },
    {
      "cell_type": "markdown",
      "metadata": {
        "id": "4YYNvs4F5yie"
      },
      "source": [
        "Define your model there, and then execute the following cell to train your model.\n",
        "Don't hesitate to tweak the hyperparameters."
      ]
    },
    {
      "cell_type": "code",
      "execution_count": 37,
      "metadata": {
        "id": "ouVgandH5yie"
      },
      "outputs": [],
      "source": [
        "# hyperparams\n",
        "batch_size = 32\n",
        "hid_size = 15\n",
        "learning_rate = 0.5\n",
        "num_epochs = 10\n",
        "input_size = X_train.shape[1]\n",
        "output_size = 10\n",
        "\n",
        "\n",
        "# build the model and weights\n",
        "class MyModel:\n",
        "    def __init__(self, input_size, hid_size, output_size):\n",
        "        # TODO: randomly initialize all the internal variables of the model:\n",
        "        self.W_h = init_weights([input_size, hid_size]) # TODO\n",
        "        self.b_h = init_weights([hid_size]) # TODO\n",
        "        self.W_o = init_weights([hid_size, output_size]) # TODO\n",
        "        self.b_o = init_weights([output_size]) # TODO\n",
        "\n",
        "    def __call__(self, inputs):\n",
        "        # TODO: this method should implement the forward pass with\n",
        "        # tensorflow operations: compute the outputs, that is the\n",
        "        # unnormalized predictions of the network for a give batch\n",
        "        # of inputs vectors.\n",
        "        # No need to implement the softmax operations as we will\n",
        "        # move it the loss function instead.\n",
        "\n",
        "        z_h = tf.matmul(inputs, self.W_h) + self.b_h\n",
        "        h = tf.sigmoid(z_h)\n",
        "        y = tf.matmul(h, self.W_o) + self.b_o\n",
        "\n",
        "        # Hint: you can use tf.matmul, tf.tanh, tf.sigmoid,\n",
        "        # arithmetic operations and so on.\n",
        "        return y\n",
        "\n",
        "model = MyModel(input_size, hid_size, output_size)"
      ]
    },
    {
      "cell_type": "code",
      "execution_count": 38,
      "metadata": {
        "colab": {
          "base_uri": "https://localhost:8080/"
        },
        "id": "RqVtyHD75yii",
        "outputId": "c7f30522-0f05-4ac2-8bc1-1b650e6b3dc1"
      },
      "outputs": [
        {
          "output_type": "execute_result",
          "data": {
            "text/plain": [
              "0.044444444444444446"
            ]
          },
          "metadata": {},
          "execution_count": 38
        }
      ],
      "source": [
        "test_model(model, X_test, y_test)"
      ]
    },
    {
      "cell_type": "markdown",
      "metadata": {
        "id": "oYnGRT045yij"
      },
      "source": [
        "The following implements a training loop in Python. Note the use of `tf.GradientTape` to automatically compute the gradients of the loss w.r.t. the different parameters of the model:"
      ]
    },
    {
      "cell_type": "code",
      "execution_count": 39,
      "metadata": {
        "colab": {
          "base_uri": "https://localhost:8080/",
          "height": 621
        },
        "id": "L7oqzzKw5yij",
        "outputId": "2b9a6aa2-2640-4b53-d9a5-462140a2d230"
      },
      "outputs": [
        {
          "output_type": "stream",
          "name": "stdout",
          "text": [
            "Epoch 0, train_acc = 0.3824, test_acc = 0.3259\n",
            "Epoch 1, train_acc = 0.8055, test_acc = 0.7481\n",
            "Epoch 2, train_acc = 0.8828, test_acc = 0.8667\n",
            "Epoch 3, train_acc = 0.928, test_acc = 0.9185\n",
            "Epoch 4, train_acc = 0.9515, test_acc = 0.9481\n",
            "Epoch 5, train_acc = 0.964, test_acc = 0.9444\n",
            "Epoch 6, train_acc = 0.9738, test_acc = 0.9481\n",
            "Epoch 7, train_acc = 0.9804, test_acc = 0.9519\n",
            "Epoch 8, train_acc = 0.9823, test_acc = 0.9519\n",
            "Epoch 9, train_acc = 0.9823, test_acc = 0.9519\n"
          ]
        },
        {
          "output_type": "execute_result",
          "data": {
            "text/plain": [
              "[<matplotlib.lines.Line2D at 0x7a966d9f2350>]"
            ]
          },
          "metadata": {},
          "execution_count": 39
        },
        {
          "output_type": "display_data",
          "data": {
            "text/plain": [
              "<Figure size 640x480 with 1 Axes>"
            ],
            "image/png": "[encoded data removed]"
          },
          "metadata": {}
        }
      ],
      "source": [
        "losses = []\n",
        "for e in range(num_epochs):\n",
        "    train_dataset = gen_dataset(X_train, y_train, batch_size=batch_size)\n",
        "\n",
        "    for batch_x, batch_y in train_dataset:\n",
        "        # tf.GradientTape records the activation to compute the gradients:\n",
        "        with tf.GradientTape() as tape:\n",
        "            logits = model(batch_x)\n",
        "            loss = tf.reduce_mean(tf.nn.sparse_softmax_cross_entropy_with_logits(batch_y, logits))\n",
        "            losses.append(loss.numpy())\n",
        "\n",
        "        # Here we ask for the gradients of dL/dW_h, etc.\n",
        "        dW_h, db_h, dW_o, db_o = tape.gradient(\n",
        "            loss, [model.W_h, model.b_h, model.W_o, model.b_o])\n",
        "\n",
        "        # Update the weights as a Stochastic Gradient Descent would do:\n",
        "        model.W_h.assign_sub(learning_rate * dW_h)\n",
        "        model.b_h.assign_sub(learning_rate * db_h)\n",
        "        model.W_o.assign_sub(learning_rate * dW_o)\n",
        "        model.b_o.assign_sub(learning_rate * db_o)\n",
        "\n",
        "    train_acc = test_model(model, X_train, y_train)\n",
        "    test_acc = test_model(model, X_test, y_test)\n",
        "    print(\"Epoch {}, train_acc = {}, test_acc = {}\".format(e, round(train_acc, 4), round(test_acc, 4)))\n",
        "\n",
        "plt.plot(losses)"
      ]
    },
    {
      "cell_type": "code",
      "execution_count": 40,
      "metadata": {
        "colab": {
          "base_uri": "https://localhost:8080/"
        },
        "id": "z46xN1YF5yij",
        "outputId": "504a8773-f38b-4d5f-a02f-c614defc620f"
      },
      "outputs": [
        {
          "output_type": "execute_result",
          "data": {
            "text/plain": [
              "0.9518518518518518"
            ]
          },
          "metadata": {},
          "execution_count": 40
        }
      ],
      "source": [
        "test_model(model, X_test, y_test)"
      ]
    },
    {
      "cell_type": "code",
      "execution_count": 41,
      "metadata": {
        "colab": {
          "base_uri": "https://localhost:8080/"
        },
        "id": "QKQtXebv5yij",
        "outputId": "9f3edae2-45fa-4b97-bfe2-63ed3092f3b2"
      },
      "outputs": [
        {
          "output_type": "execute_result",
          "data": {
            "text/plain": [
              "0.9823182711198428"
            ]
          },
          "metadata": {},
          "execution_count": 41
        }
      ],
      "source": [
        "test_model(model, X_train, y_train)"
      ]
    },
    {
      "cell_type": "markdown",
      "metadata": {
        "id": "c9M_-0X_5yij"
      },
      "source": [
        "### Exercises (Bonus)\n",
        "\n",
        "- add L2 regularization with $\\lambda = 10^{-4}$\n",
        "- train with arbitrary number of layers: only pass the layer sizes as hyperparameter to the model class constructor (`__init__` method)\n",
        "- try implementing momentum\n",
        "- you may use tensorboard (https://www.tensorflow.org/how_tos/summaries_and_tensorboard/) to monitor loss and display graph"
      ]
    },
    {
      "cell_type": "code",
      "execution_count": null,
      "metadata": {
        "id": "jDa0b0ok5yij"
      },
      "outputs": [],
      "source": []
    }
  ],
  "metadata": {
    "kernelspec": {
      "display_name": "Python 3",
      "language": "python",
      "name": "python3"
    },
    "language_info": {
      "codemirror_mode": {
        "name": "ipython",
        "version": 3
      },
      "file_extension": ".py",
      "mimetype": "text/x-python",
      "name": "python",
      "nbconvert_exporter": "python",
      "pygments_lexer": "ipython3",
      "version": "3.7.6"
    },
    "colab": {
      "provenance": []
    }
  },
  "nbformat": 4,
  "nbformat_minor": 0
}